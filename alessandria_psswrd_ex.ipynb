{
 "cells": [
  {
   "cell_type": "code",
   "execution_count": 1,
   "id": "50d7feaf",
   "metadata": {},
   "outputs": [],
   "source": [
    "import random"
   ]
  },
  {
   "cell_type": "code",
   "execution_count": 2,
   "id": "85b28b1a",
   "metadata": {},
   "outputs": [],
   "source": [
    "def create_password_generator_v0(string: str):\n",
    "    \n",
    "    def child_func(n: int):\n",
    "        \n",
    "        password=''\n",
    "        \n",
    "        for i in range(n):\n",
    "            a=random.choice(string)\n",
    "            password+=a\n",
    "        \n",
    "        return password\n",
    "    \n",
    "    return child_func"
   ]
  },
  {
   "cell_type": "code",
   "execution_count": 3,
   "id": "6645830a",
   "metadata": {},
   "outputs": [],
   "source": [
    "abc_only=create_password_generator('abc')"
   ]
  },
  {
   "cell_type": "code",
   "execution_count": 4,
   "id": "77e5c0e2",
   "metadata": {},
   "outputs": [
    {
     "name": "stdout",
     "output_type": "stream",
     "text": [
      "abcbca\n"
     ]
    }
   ],
   "source": [
    "print(abc_only(6))"
   ]
  },
  {
   "cell_type": "code",
   "execution_count": 14,
   "id": "9e9811d9",
   "metadata": {},
   "outputs": [
    {
     "data": {
      "text/plain": [
       "0"
      ]
     },
     "execution_count": 14,
     "metadata": {},
     "output_type": "execute_result"
    }
   ],
   "source": [
    "random.randint(0,1)"
   ]
  },
  {
   "cell_type": "code",
   "execution_count": 5,
   "id": "0992cab9",
   "metadata": {},
   "outputs": [],
   "source": [
    "##adding conditions\n",
    "## one uppercase character\n",
    "\n",
    "def create_password_generator_v1(string: str):\n",
    "    \n",
    "    def child_func(n: int):\n",
    "        \n",
    "        password=''\n",
    "        r=random.randint(0,n)\n",
    "        \n",
    "        for i in range(n):\n",
    "            if i==r:\n",
    "                b=random.choice(string)\n",
    "                a=b.upper()\n",
    "                password+=a\n",
    "            else:\n",
    "                a=random.choice(string)\n",
    "                password+=a\n",
    "        \n",
    "        return password\n",
    "    \n",
    "    return child_func"
   ]
  },
  {
   "cell_type": "code",
   "execution_count": 6,
   "id": "f08ac984",
   "metadata": {},
   "outputs": [],
   "source": [
    "test_1=create_password_generator_v1('abcd')"
   ]
  },
  {
   "cell_type": "code",
   "execution_count": 7,
   "id": "985e0b69",
   "metadata": {},
   "outputs": [
    {
     "data": {
      "text/plain": [
       "'aaaaAc'"
      ]
     },
     "execution_count": 7,
     "metadata": {},
     "output_type": "execute_result"
    }
   ],
   "source": [
    "test_1(6)"
   ]
  },
  {
   "cell_type": "code",
   "execution_count": 29,
   "id": "6d48f2fa",
   "metadata": {},
   "outputs": [],
   "source": [
    "##adding conditions\n",
    "## one uppercase character\n",
    "## at least one special character\n",
    "\n",
    "def create_password_generator_v2(string: str):\n",
    "    \n",
    "    special=False\n",
    "    \n",
    "    for i in string:\n",
    "        check0=i.isalnum()\n",
    "        if not check0:\n",
    "            special=True\n",
    "            break\n",
    "            \n",
    "    if not special:\n",
    "        \n",
    "        print('The input string must contain at least one special character(!#?$). Try update the input and re-run the fucntion')\n",
    "        \n",
    "    if special:\n",
    "    \n",
    "        def child_func(n: int):\n",
    "\n",
    "            password=''\n",
    "            r=random.randint(0,n)\n",
    "\n",
    "            for i in range(n):\n",
    "                if i==r:\n",
    "                    b=random.choice(string)\n",
    "                    a=b.upper()\n",
    "                    password+=a\n",
    "                else:\n",
    "                    a=random.choice(string)\n",
    "                    password+=a\n",
    "\n",
    "            list_password_charac=[i for i in password]\n",
    "\n",
    "            for i in list_password_charac:\n",
    "                check=i.isalnum()\n",
    "                if check==False:\n",
    "                    break\n",
    "\n",
    "            if check:\n",
    "\n",
    "                notalnum=[]\n",
    "\n",
    "                for i in string:\n",
    "                    alnum=i.isalnum()\n",
    "                    if not alnum:\n",
    "                        notalnum.append(alnum)\n",
    "\n",
    "                r1=random.randint(0,n)\n",
    "                list_password_charac[r1]=random.choice(notalnum)\n",
    "\n",
    "                for i in list_password_charac:\n",
    "                    password+=i\n",
    "\n",
    "\n",
    "            return password\n",
    "\n",
    "        return child_func"
   ]
  },
  {
   "cell_type": "code",
   "execution_count": 31,
   "id": "5220c953",
   "metadata": {},
   "outputs": [],
   "source": [
    "test_3=create_password_generator_v2('12fs##d')"
   ]
  },
  {
   "cell_type": "code",
   "execution_count": 32,
   "id": "a750c568",
   "metadata": {},
   "outputs": [
    {
     "name": "stdout",
     "output_type": "stream",
     "text": [
      "s1sd1#F\n"
     ]
    }
   ],
   "source": [
    "print(test_3(7))"
   ]
  },
  {
   "cell_type": "code",
   "execution_count": 8,
   "id": "bef5b443",
   "metadata": {},
   "outputs": [
    {
     "name": "stdout",
     "output_type": "stream",
     "text": [
      "['a', 'b', 'c', 'd', 'e', 'f']\n"
     ]
    }
   ],
   "source": [
    "test='abcdef'\n",
    "test_list=[i for i in test]\n",
    "print(test_list)"
   ]
  },
  {
   "cell_type": "code",
   "execution_count": 15,
   "id": "b13e70bb",
   "metadata": {},
   "outputs": [
    {
     "ename": "TypeError",
     "evalue": "'str' object does not support item assignment",
     "output_type": "error",
     "traceback": [
      "\u001b[1;31m---------------------------------------------------------------------------\u001b[0m",
      "\u001b[1;31mTypeError\u001b[0m                                 Traceback (most recent call last)",
      "Cell \u001b[1;32mIn[15], line 1\u001b[0m\n\u001b[1;32m----> 1\u001b[0m \u001b[43mtest\u001b[49m\u001b[43m[\u001b[49m\u001b[38;5;241;43m3\u001b[39;49m\u001b[43m]\u001b[49m\u001b[38;5;241m=\u001b[39m\u001b[38;5;124m'\u001b[39m\u001b[38;5;124m2\u001b[39m\u001b[38;5;124m'\u001b[39m\n",
      "\u001b[1;31mTypeError\u001b[0m: 'str' object does not support item assignment"
     ]
    }
   ],
   "source": [
    "test[3]='2'"
   ]
  },
  {
   "cell_type": "code",
   "execution_count": 14,
   "id": "798ea9bf",
   "metadata": {},
   "outputs": [
    {
     "data": {
      "text/plain": [
       "True"
      ]
     },
     "execution_count": 14,
     "metadata": {},
     "output_type": "execute_result"
    }
   ],
   "source": [
    "test.isalnum()"
   ]
  },
  {
   "cell_type": "code",
   "execution_count": null,
   "id": "42e27635",
   "metadata": {},
   "outputs": [],
   "source": []
  }
 ],
 "metadata": {
  "kernelspec": {
   "display_name": "Python 3 (ipykernel)",
   "language": "python",
   "name": "python3"
  },
  "language_info": {
   "codemirror_mode": {
    "name": "ipython",
    "version": 3
   },
   "file_extension": ".py",
   "mimetype": "text/x-python",
   "name": "python",
   "nbconvert_exporter": "python",
   "pygments_lexer": "ipython3",
   "version": "3.11.1"
  }
 },
 "nbformat": 4,
 "nbformat_minor": 5
}
